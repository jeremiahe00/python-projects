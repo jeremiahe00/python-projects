{
 "cells": [
  {
   "cell_type": "code",
   "execution_count": 10,
   "metadata": {},
   "outputs": [],
   "source": [
    "import requests\n",
    "import csv"
   ]
  },
  {
   "cell_type": "code",
   "execution_count": 11,
   "metadata": {},
   "outputs": [],
   "source": [
    "import bs4"
   ]
  },
  {
   "cell_type": "code",
   "execution_count": 12,
   "metadata": {},
   "outputs": [
    {
     "data": {
      "text/plain": [
       "'\"'"
      ]
     },
     "execution_count": 12,
     "metadata": {},
     "output_type": "execute_result"
    }
   ],
   "source": [
    "import html\n",
    "# 'Suzy & John'\n",
    "\n",
    "html.unescape('&quot;')"
   ]
  },
  {
   "cell_type": "code",
   "execution_count": 13,
   "metadata": {},
   "outputs": [],
   "source": [
    "main_url = 'https://myanimelist.net/topanime.php?limit={}'\n",
    "res = requests.get(main_url)"
   ]
  },
  {
   "cell_type": "code",
   "execution_count": 14,
   "metadata": {},
   "outputs": [],
   "source": [
    "myAnimeList = open('my_Anime_List.csv', mode='w', newline='')\n",
    "csv_writer = csv.writer(myAnimeList, delimiter='|')"
   ]
  },
  {
   "cell_type": "code",
   "execution_count": 15,
   "metadata": {},
   "outputs": [
    {
     "data": {
      "text/plain": [
       "11"
      ]
     },
     "execution_count": 15,
     "metadata": {},
     "output_type": "execute_result"
    }
   ],
   "source": [
    "csv_writer.writerow(['Name', 'Rank'])"
   ]
  },
  {
   "cell_type": "code",
   "execution_count": 16,
   "metadata": {
    "scrolled": true
   },
   "outputs": [],
   "source": [
    "found = True\n",
    "animeShows = set()\n",
    "animeShowsDict = {}\n",
    "page = 0\n",
    "n = 0\n",
    "top = [9, 8, 7, 6, 5]\n",
    "\n",
    "while(found):\n",
    "    \n",
    "    #try:\n",
    "    scrape_url = main_url.format(page)  \n",
    "    res = requests.get(scrape_url)\n",
    "\n",
    "    #if \"This page doesn't exixt.\" in res.select('.message').getText():\n",
    "            #break\n",
    "    \n",
    "    soup = bs4.BeautifulSoup(res.text, 'lxml')\n",
    "    animes = soup.select(\".ranking-list\")\n",
    "    \n",
    "    for anime in animes:\n",
    "\n",
    "        try:\n",
    "            score_label = f'.text.on.score-label.score-{str(top[n])}'\n",
    "            if (float(anime.select(score_label)[0].text)) >= 8.50:\n",
    "                #print(anime.select(score_label)[0].text)\n",
    "                animeName = anime.select(\"img[alt]\")[0]['alt'][7:].replace('&#039;', \"\")\n",
    "                animeNameF = animeName.encode(\"utf-8\")\n",
    "                #anime = animeNameF.strip('\\\"')\n",
    "                animeShows.add(animeName)\n",
    "                score = float(anime.select(score_label)[0].text)\n",
    "                animeShowsDict[animeName] = score\n",
    "                \n",
    "                csv_writer.writerow([animeNameF, score])\n",
    "        except IndexError:\n",
    "            n+=1\n",
    "            score_label = f'.text.on.score-label.score-{str(top[n])}'\n",
    "        \n",
    "        if float(anime.select(score_label)[0].text) < 8.50:\n",
    "            break\n",
    "        if n > 2: \n",
    "            break\n",
    "        \n",
    "    if float(anime.select(score_label)[0].text) < 8.50:\n",
    "        break\n",
    "    if n > 2: \n",
    "        break\n",
    "            \n",
    "    page+=50\n"
   ]
  },
  {
   "cell_type": "code",
   "execution_count": 17,
   "metadata": {},
   "outputs": [
    {
     "name": "stdout",
     "output_type": "stream",
     "text": [
      "Fullmetal Alchemist: Brotherhood\n",
      "Gintama: The Final\n",
      "Shingeki no Kyojin Season 3 Part 2\n",
      "Steins;Gate\n",
      "Fruits Basket: The Final\n",
      "Gintama°\n",
      "Gintama\n",
      "Hunter x Hunter (2011)\n",
      "Ginga Eiyuu Densetsu\n",
      "Gintama: Enchousen\n",
      "3-gatsu no Lion 2nd Season\n",
      "Koe no Katachi\n",
      "Clannad: After Story\n",
      "Shingeki no Kyojin: The Final Season\n",
      "Gintama Movie 2: Kanketsu-hen - Yorozuya yo Eien Nare\n",
      "Code Geass: Hangyaku no Lelouch R2\n",
      "Owarimonogatari 2nd Season\n",
      "Kimi no Na wa.\n",
      "Shiguang Dailiren\n",
      "Gintama.: Shirogane no Tamashii-hen - Kouhan-sen\n",
      "Violet Evergarden Movie\n",
      "Gintama.: Shirogane no Tamashii-hen\n",
      "Haikyuu!!: Karasuno Koukou vs. Shiratorizawa Gakuen Koukou\n",
      "Mob Psycho 100 II\n",
      "Kizumonogatari III: Reiketsu-hen\n",
      "Odd Taxi\n",
      "Sen to Chihiro no Kamikakushi\n",
      "Evangelion: 3.0+1.0 Thrice Upon a Time\n",
      "Monster\n",
      "Monogatari Series: Second Season\n",
      "Cowboy Bebop\n",
      "Fate/stay night Movie: Heavens Feel - III. Spring Song\n",
      "Shouwa Genroku Rakugo Shinjuu: Sukeroku Futatabi-hen\n",
      "Mushishi Zoku Shou 2nd Season\n",
      "Jujutsu Kaisen (TV)\n",
      "Hajime no Ippo\n",
      "Kimetsu no Yaiba Movie: Mugen Ressha-hen\n",
      "Rurouni Kenshin: Meiji Kenkaku Romantan - Tsuioku-hen\n",
      "Vinland Saga\n",
      "Mushishi Zoku Shou\n",
      "Code Geass: Hangyaku no Lelouch\n",
      "Made in Abyss\n",
      "Made in Abyss Movie 3: Fukaki Tamashii no Reimei\n",
      "Great Teacher Onizuka\n",
      "Mononoke Hime\n",
      "Shigatsu wa Kimi no Uso\n",
      "Mushishi\n",
      "Haikyuu!! Second Season\n",
      "Kaguya-sama wa Kokurasetai?: Tensai-tachi no Renai Zunousen\n",
      "Ashita no Joe 2\n",
      "Hajime no Ippo: New Challenger\n",
      "Howl no Ugoku Shiro\n",
      "Natsume Yuujinchou Shi\n",
      "Seishun Buta Yarou wa Yumemiru Shoujo no Yume wo Minai\n",
      "Tengen Toppa Gurren Lagann\n",
      "Violet Evergarden\n",
      "Natsume Yuujinchou Roku\n",
      "Shingeki no Kyojin Season 3\n",
      "Suzumiya Haruhi no Shoushitsu\n",
      "Death Note\n",
      "Ping Pong the Animation\n",
      "Mushishi Zoku Shou: Suzu no Shizuku\n",
      "Ookami Kodomo no Ame to Yuki\n",
      "Kizumonogatari II: Nekketsu-hen\n",
      "Hajime no Ippo: Rising\n",
      "JoJo no Kimyou na Bouken Part 5: Ougon no Kaze\n",
      "Josee to Tora to Sakana-tachi\n",
      "Kimi no Suizou wo Tabetai\n",
      "Natsume Yuujinchou San\n",
      "Shouwa Genroku Rakugo Shinjuu\n",
      "Yakusoku no Neverland\n",
      "Yojouhan Shinwa Taikei\n",
      "Natsume Yuujinchou Go\n",
      "One Piece\n",
      "Fate/Zero 2nd Season\n",
      "Fruits Basket 2nd Season\n",
      "Kimetsu no Yaiba\n",
      "Tengen Toppa Gurren Lagann Movie 2: Lagann-hen\n",
      "Mushishi: Hihamukage\n",
      "Zoku Natsume Yuujinchou\n",
      "Bakuman. 3rd Season\n",
      "Fate/stay night Movie: Heavens Feel - II. Lost Butterfly\n",
      "Fumetsu no Anata e\n",
      "Kara no Kyoukai 5: Mujun Rasen\n",
      "Re:Zero kara Hajimeru Isekai Seikatsu 2nd Season Part 2\n",
      "Sora yori mo Tooi Basho\n",
      "Yuru Camp△ Season 2\n",
      "Haikyuu!!: To the Top 2nd Season\n",
      "Mo Dao Zu Shi: Wanjie Pian\n",
      "Gintama.: Porori-hen\n",
      "Koukaku Kidoutai: Stand Alone Complex 2nd GIG\n",
      "Neon Genesis Evangelion: The End of Evangelion\n",
      "One Punch Man\n",
      "Slam Dunk\n",
      "Tian Guan Ci Fu Special\n",
      "Vivy: Fluorite Eyes Song\n",
      "Ansatsu Kyoushitsu 2nd Season\n",
      "Gintama Movie 1: Shinyaku Benizakura-hen\n",
      "Aria the Origination\n",
      "Gintama: The Semi-Final\n",
      "Hotaru no Haka\n",
      "Rainbow: Nisha Rokubou no Shichinin\n",
      "Shingeki no Kyojin\n",
      "Steins;Gate 0\n",
      "Uchuu Kyoudai\n",
      "Perfect Blue\n",
      "Samurai Champloo\n",
      "Banana Fish\n",
      "JoJo no Kimyou na Bouken Part 4: Diamond wa Kudakenai\n",
      "Kenpuu Denki Berserk\n"
     ]
    }
   ],
   "source": [
    "for shows in animeShowsDict: \n",
    "    print(shows)\n",
    "    #show = shows\n",
    "    #csv_writer.writerow([show.encode(\"utf-8\"), animeShowsDict.get(shows)])"
   ]
  },
  {
   "cell_type": "code",
   "execution_count": 18,
   "metadata": {},
   "outputs": [],
   "source": [
    "myAnimeList.close()"
   ]
  },
  {
   "cell_type": "code",
   "execution_count": null,
   "metadata": {},
   "outputs": [],
   "source": []
  },
  {
   "cell_type": "code",
   "execution_count": null,
   "metadata": {},
   "outputs": [],
   "source": []
  }
 ],
 "metadata": {
  "kernelspec": {
   "display_name": "Python 3",
   "language": "python",
   "name": "python3"
  },
  "language_info": {
   "codemirror_mode": {
    "name": "ipython",
    "version": 3
   },
   "file_extension": ".py",
   "mimetype": "text/x-python",
   "name": "python",
   "nbconvert_exporter": "python",
   "pygments_lexer": "ipython3",
   "version": "3.8.5"
  }
 },
 "nbformat": 4,
 "nbformat_minor": 4
}
